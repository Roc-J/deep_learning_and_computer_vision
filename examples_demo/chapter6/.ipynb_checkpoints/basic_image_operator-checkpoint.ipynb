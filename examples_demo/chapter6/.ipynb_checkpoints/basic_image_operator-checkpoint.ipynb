{
 "cells": [
  {
   "cell_type": "markdown",
   "metadata": {},
   "source": [
    "## 读图像用cv2.imread()函数，可以按照不同模式读取，一般最常用到的是读取单通道灰度图，或者默认是多通道\n",
    "\n",
    "## 保存图像用cv2.imwrite()函数，注意保存的时候是没有单通道"
   ]
  },
  {
   "cell_type": "code",
   "execution_count": 2,
   "metadata": {},
   "outputs": [
    {
     "name": "stdout",
     "output_type": "stream",
     "text": [
      "(400, 600, 3)\n"
     ]
    }
   ],
   "source": [
    "iimport cv2\n",
    "# 读取400x600分辨率的图像\n",
    "color_img = cv2.imread('test_400x600.jpg')\n",
    "print(color_img.shape)"
   ]
  },
  {
   "cell_type": "code",
   "execution_count": 3,
   "metadata": {},
   "outputs": [
    {
     "name": "stdout",
     "output_type": "stream",
     "text": [
      "(400, 600)\n"
     ]
    }
   ],
   "source": [
    "# 直接读取单通道\n",
    "gray_img = cv2.imread('test_400x600.jpg', cv2.IMREAD_GRAYSCALE)\n",
    "print(gray_img.shape)"
   ]
  },
  {
   "cell_type": "code",
   "execution_count": 4,
   "metadata": {},
   "outputs": [
    {
     "name": "stdout",
     "output_type": "stream",
     "text": [
      "(400, 600, 3)\n"
     ]
    }
   ],
   "source": [
    "# 把单通道图片保存后，在读取，仍然是３通道，相当于把单通道复制到３个通道保存\n",
    "cv2.imwrite('test_grayscale.jpg', gray_img)\n",
    "reload_grayscale = cv2.imread('test_grayscale.jpg')\n",
    "print(reload_grayscale.shape)"
   ]
  },
  {
   "cell_type": "markdown",
   "metadata": {},
   "source": [
    "cv2.IMWRITE_JPEG_QUALITY指定jpg质量，范围０～１００，默认９５，越高画质越好，文件越大"
   ]
  },
  {
   "cell_type": "code",
   "execution_count": 5,
   "metadata": {},
   "outputs": [
    {
     "data": {
      "text/plain": [
       "True"
      ]
     },
     "execution_count": 5,
     "metadata": {},
     "output_type": "execute_result"
    }
   ],
   "source": [
    "cv2.imwrite('test_imwrite.jpg', color_img, (cv2.IMWRITE_JPEG_QUALITY, 80))"
   ]
  },
  {
   "cell_type": "markdown",
   "metadata": {},
   "source": [
    "cv2.IMWRITE_PNG_COMPRESSION指定png质量，范围为０～９，默认为３，越高文件越小，画质越差"
   ]
  },
  {
   "cell_type": "code",
   "execution_count": 6,
   "metadata": {},
   "outputs": [
    {
     "data": {
      "text/plain": [
       "True"
      ]
     },
     "execution_count": 6,
     "metadata": {},
     "output_type": "execute_result"
    }
   ],
   "source": [
    "cv2.imwrite('test_imwrite.png', color_img, (cv2.IMWRITE_PNG_COMPRESSION, 5))"
   ]
  },
  {
   "cell_type": "markdown",
   "metadata": {},
   "source": [
    "## 缩放、裁剪和补边"
   ]
  },
  {
   "cell_type": "markdown",
   "metadata": {},
   "source": [
    "缩放通过cv2.resize()函数实现，裁剪则是利用array自身的下标截取实现，此外OpenCV还可以给图像补边"
   ]
  },
  {
   "cell_type": "code",
   "execution_count": 7,
   "metadata": {},
   "outputs": [
    {
     "name": "stdout",
     "output_type": "stream",
     "text": [
      "(435, 580, 3)\n"
     ]
    }
   ],
   "source": [
    "# 读取一张四川大录古藏寨的照片\n",
    "img = cv2.imread('tiger_tibet_village.jpg')\n",
    "print(img.shape)"
   ]
  },
  {
   "cell_type": "code",
   "execution_count": 8,
   "metadata": {},
   "outputs": [],
   "source": [
    "# 缩放成200x200的方形\n",
    "img_200x200 = cv2.resize(img, (200, 200))"
   ]
  },
  {
   "cell_type": "markdown",
   "metadata": {},
   "source": [
    "不直接指定缩放后大小，通过fx和fy指定缩放比例，0.5，则长宽都为原来的一半"
   ]
  },
  {
   "cell_type": "code",
   "execution_count": 9,
   "metadata": {},
   "outputs": [
    {
     "name": "stdout",
     "output_type": "stream",
     "text": [
      "(218, 290, 3)\n"
     ]
    }
   ],
   "source": [
    "img_217x290 = cv2.resize(img, (0, 0), fx=0.5, fy=0.5, interpolation=cv2.INTER_NEAREST)\n",
    "print(img_217x290.shape)"
   ]
  },
  {
   "cell_type": "code",
   "execution_count": 12,
   "metadata": {},
   "outputs": [],
   "source": [
    "# 在原始图片上上下各贴50像素的黑边\n",
    "img_485x630 = cv2.copyMakeBorder(img, 50, 50, 50, 50, cv2.BORDER_CONSTANT, value=(0, 0, 0))"
   ]
  },
  {
   "cell_type": "code",
   "execution_count": 13,
   "metadata": {},
   "outputs": [
    {
     "name": "stdout",
     "output_type": "stream",
     "text": [
      "(535, 680, 3)\n"
     ]
    }
   ],
   "source": [
    "print(img_485x630.shape)"
   ]
  },
  {
   "cell_type": "markdown",
   "metadata": {},
   "source": [
    "## 色调、明暗、直方图和Gamma曲线"
   ]
  },
  {
   "cell_type": "markdown",
   "metadata": {},
   "source": [
    "除了区域，图像本身的属性操作也非常多，比如可以通过HSV空间对色调和明暗进行调节\n",
    "\n",
    "Ｈ(Hue)色调　S(Saturation)饱和度 V(value)明度"
   ]
  },
  {
   "cell_type": "code",
   "execution_count": 14,
   "metadata": {},
   "outputs": [
    {
     "data": {
      "text/plain": [
       "True"
      ]
     },
     "execution_count": 14,
     "metadata": {},
     "output_type": "execute_result"
    }
   ],
   "source": [
    "# 通过cv2.cvtColor(img, cv2.COLOR_BGR2HSV)\n",
    "img_hsv = cv2.cvtColor(img, cv2.COLOR_BGR2HSV)\n",
    "# H空间中，绿色比黄色的值高一点，所以给每个像素+15，黄色的树叶就会变绿\n",
    "turn_green_hsv = img_hsv.copy()\n",
    "turn_green_hsv[:, :, 0] = (turn_green_hsv[:, :, 0]+15) % 180\n",
    "turn_green_img = cv2.cvtColor(turn_green_hsv, cv2.COLOR_HSV2BGR)\n",
    "cv2.imwrite('turn_green.jpg', turn_green_img)"
   ]
  },
  {
   "cell_type": "code",
   "execution_count": 15,
   "metadata": {},
   "outputs": [
    {
     "data": {
      "text/plain": [
       "True"
      ]
     },
     "execution_count": 15,
     "metadata": {},
     "output_type": "execute_result"
    }
   ],
   "source": [
    "#　减小饱和度会让图像损失鲜艳变得更灰\n",
    "colorless_hsv = img_hsv.copy()\n",
    "colorless_hsv[:, :, 1] = 0.5 * colorless_hsv[:, :, 1]\n",
    "colorless_img = cv2.cvtColor(colorless_hsv, cv2.COLOR_HSV2BGR)\n",
    "cv2.imwrite('colorless.jpg', colorless_img)\n"
   ]
  },
  {
   "cell_type": "code",
   "execution_count": 16,
   "metadata": {},
   "outputs": [
    {
     "data": {
      "text/plain": [
       "True"
      ]
     },
     "execution_count": 16,
     "metadata": {},
     "output_type": "execute_result"
    }
   ],
   "source": [
    "# 减少透明度为原来的一半\n",
    "darker_hsv = img_hsv.copy()\n",
    "darker_hsv[:, :, 2] = 0.5 * darker_hsv[:, :, 2]\n",
    "darker_img = cv2.cvtColor(darker_hsv, cv2.COLOR_HSV2BGR)\n",
    "cv2.imwrite('darker.jpg', darker_img)"
   ]
  },
  {
   "cell_type": "markdown",
   "metadata": {},
   "source": [
    "无论是HSV还是RGB，都较难一眼就对像素中值的分布有细致的了解，这时候需要直方图。\n",
    "\n",
    "如果直方图中的成分过于靠近０或者255，可能就出现了暗部细节不足或者亮部细节丢失的情况。\n",
    "\n",
    "背景里的暗部细节是非常弱的，常用的方法是考虑用Gamma变化来提升暗部细节。Gamma变化是矫正相机和人眼感受图像差别的一种常用手段，简单来说就是通过非线性变换"
   ]
  },
  {
   "cell_type": "code",
   "execution_count": 17,
   "metadata": {},
   "outputs": [],
   "source": [
    "import numpy as np\n",
    "\n",
    "hist_b = cv2.calcHist([img], [0], None, [256], [0, 256])\n",
    "hist_g = cv2.calcHist([img], [1], None, [256], [0, 256])\n",
    "hist_r = cv2.calcHist([img], [2], None, [256], [0, 256])\n",
    "\n",
    "# 定义Gamma矫正的函数\n",
    "def gamma_trans(img, gamma):\n",
    "    # 具体做法是先归一化到１，　然后gamma作为指数值求出新的像素值再还原\n",
    "    gamma_table = [np.power(x/255.0, gamma)*255.0 for x in range(256)]\n",
    "    gamma_table = np.round(np.array(gamma_table)).astype(np.uint8)\n",
    "    \n",
    "    # 实现映射用的是OpenCV的查表函数\n",
    "    return cv2.LUT(img, gamma_table)"
   ]
  },
  {
   "cell_type": "code",
   "execution_count": 18,
   "metadata": {},
   "outputs": [],
   "source": [
    "# 执行Gamma矫正，小于１的值让暗部细节大量提升，同时亮部细节少量提升\n",
    "img_corrected = gamma_trans(img, 0.5)\n",
    "cv2.imwrite('gamma_corrected.jpg', img_corrected)\n",
    "\n",
    "# 分通道计算Gamma矫正后的直方图\n",
    "hist_b_corrected = cv2.calcHist([img_corrected], [0], None, [256], [0, 256])\n",
    "hist_g_corrected = cv2.calcHist([img_corrected], [1], None, [256], [0, 256])\n",
    "hist_r_corrected = cv2.calcHist([img_corrected], [2], None, [256], [0, 256])"
   ]
  },
  {
   "cell_type": "code",
   "execution_count": 22,
   "metadata": {},
   "outputs": [
    {
     "data": {
      "image/png": "[encoded data removed]",
      "text/plain": [
       "<matplotlib.figure.Figure at 0x7f725069bc50>"
      ]
     },
     "metadata": {},
     "output_type": "display_data"
    }
   ],
   "source": [
    "# 将直方图进行可视化\n",
    "import matplotlib.pyplot as plt\n",
    "from mpl_toolkits.mplot3d import Axes3D\n",
    "\n",
    "fig = plt.figure()\n",
    "pix_hists = [\n",
    "    [hist_b, hist_g, hist_r],\n",
    "    [hist_b_corrected, hist_g_corrected, hist_r_corrected]\n",
    "]\n",
    "\n",
    "pix_vals = range(256)\n",
    "for sub_plt, pix_hist in zip([121, 122], pix_hists):\n",
    "    pix_hist = [x[0] for x in pix_hist]\n",
    "    ax = fig.add_subplot(sub_plt, projection='3d')\n",
    "    for c, z, channel_hist in zip(['b', 'g', 'r'], [20, 10, 0], pix_hist):\n",
    "        cs = [c] * 256\n",
    "        ax.bar(pix_vals, channel_hist, zs=z, zdir='y', color=cs, alpha=0.618, edgecolor='none', lw=0)\n",
    "        ax.set_xlabel('Pixel Values')\n",
    "        ax.set_xlim([0, 256])\n",
    "        ax.set_ylabel('Counts')\n",
    "        ax.set_zlabel('Channels')\n",
    "plt.show()"
   ]
  }
 ],
 "metadata": {
  "kernelspec": {
   "display_name": "Python 2",
   "language": "python",
   "name": "python2"
  },
  "language_info": {
   "codemirror_mode": {
    "name": "ipython",
    "version": 2
   },
   "file_extension": ".py",
   "mimetype": "text/x-python",
   "name": "python",
   "nbconvert_exporter": "python",
   "pygments_lexer": "ipython2",
   "version": "2.7.12"
  }
 },
 "nbformat": 4,
 "nbformat_minor": 2
}
